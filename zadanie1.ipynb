{
 "cells": [
  {
   "cell_type": "code",
   "execution_count": 59,
   "id": "113a5444-0824-4a5a-a69e-fcfd3f57a8ec",
   "metadata": {},
   "outputs": [],
   "source": [
    "import pandas as pd"
   ]
  },
  {
   "cell_type": "code",
   "execution_count": 93,
   "id": "b3564f18-158c-40de-b1bd-5f810abd8df5",
   "metadata": {},
   "outputs": [
    {
     "data": {
      "text/html": [
       "<div>\n",
       "<style scoped>\n",
       "    .dataframe tbody tr th:only-of-type {\n",
       "        vertical-align: middle;\n",
       "    }\n",
       "\n",
       "    .dataframe tbody tr th {\n",
       "        vertical-align: top;\n",
       "    }\n",
       "\n",
       "    .dataframe thead th {\n",
       "        text-align: right;\n",
       "    }\n",
       "</style>\n",
       "<table border=\"1\" class=\"dataframe\">\n",
       "  <thead>\n",
       "    <tr style=\"text-align: right;\">\n",
       "      <th></th>\n",
       "      <th>Unnamed: 0</th>\n",
       "      <th>Fertility rate</th>\n",
       "      <th>Life expectancy at birth</th>\n",
       "    </tr>\n",
       "  </thead>\n",
       "  <tbody>\n",
       "    <tr>\n",
       "      <th>0</th>\n",
       "      <td>x1</td>\n",
       "      <td>1.300</td>\n",
       "      <td>76.84878</td>\n",
       "    </tr>\n",
       "    <tr>\n",
       "      <th>1</th>\n",
       "      <td>x2</td>\n",
       "      <td>1.950</td>\n",
       "      <td>81.40732</td>\n",
       "    </tr>\n",
       "    <tr>\n",
       "      <th>2</th>\n",
       "      <td>x3</td>\n",
       "      <td>2.466</td>\n",
       "      <td>77.57895</td>\n",
       "    </tr>\n",
       "    <tr>\n",
       "      <th>3</th>\n",
       "      <td>x4</td>\n",
       "      <td>1.600</td>\n",
       "      <td>74.16341</td>\n",
       "    </tr>\n",
       "    <tr>\n",
       "      <th>4</th>\n",
       "      <td>x5</td>\n",
       "      <td>2.952</td>\n",
       "      <td>68.84907</td>\n",
       "    </tr>\n",
       "    <tr>\n",
       "      <th>5</th>\n",
       "      <td>x6</td>\n",
       "      <td>1.801</td>\n",
       "      <td>73.88595</td>\n",
       "    </tr>\n",
       "    <tr>\n",
       "      <th>6</th>\n",
       "      <td>x7</td>\n",
       "      <td>1.340</td>\n",
       "      <td>75.26829</td>\n",
       "    </tr>\n",
       "    <tr>\n",
       "      <th>7</th>\n",
       "      <td>x8</td>\n",
       "      <td>1.340</td>\n",
       "      <td>76.26098</td>\n",
       "    </tr>\n",
       "    <tr>\n",
       "      <th>8</th>\n",
       "      <td>x9</td>\n",
       "      <td>1.630</td>\n",
       "      <td>80.57244</td>\n",
       "    </tr>\n",
       "    <tr>\n",
       "      <th>9</th>\n",
       "      <td>x10</td>\n",
       "      <td>2.326</td>\n",
       "      <td>65.46259</td>\n",
       "    </tr>\n",
       "    <tr>\n",
       "      <th>10</th>\n",
       "      <td>x11</td>\n",
       "      <td>2.436</td>\n",
       "      <td>67.54820</td>\n",
       "    </tr>\n",
       "    <tr>\n",
       "      <th>11</th>\n",
       "      <td>x12</td>\n",
       "      <td>6.563</td>\n",
       "      <td>55.02451</td>\n",
       "    </tr>\n",
       "    <tr>\n",
       "      <th>12</th>\n",
       "      <td>x13</td>\n",
       "      <td>1.283</td>\n",
       "      <td>76.27990</td>\n",
       "    </tr>\n",
       "    <tr>\n",
       "      <th>13</th>\n",
       "      <td>x14</td>\n",
       "      <td>1.430</td>\n",
       "      <td>82.29024</td>\n",
       "    </tr>\n",
       "    <tr>\n",
       "      <th>14</th>\n",
       "      <td>x15</td>\n",
       "      <td>1.988</td>\n",
       "      <td>69.80695</td>\n",
       "    </tr>\n",
       "    <tr>\n",
       "      <th>15</th>\n",
       "      <td>x16</td>\n",
       "      <td>1.610</td>\n",
       "      <td>81.40112</td>\n",
       "    </tr>\n",
       "    <tr>\n",
       "      <th>16</th>\n",
       "      <td>x17</td>\n",
       "      <td>1.921</td>\n",
       "      <td>82.19756</td>\n",
       "    </tr>\n",
       "    <tr>\n",
       "      <th>17</th>\n",
       "      <td>x18</td>\n",
       "      <td>2.400</td>\n",
       "      <td>74.22683</td>\n",
       "    </tr>\n",
       "    <tr>\n",
       "      <th>18</th>\n",
       "      <td>x19</td>\n",
       "      <td>1.495</td>\n",
       "      <td>80.12888</td>\n",
       "    </tr>\n",
       "    <tr>\n",
       "      <th>19</th>\n",
       "      <td>x20</td>\n",
       "      <td>4.705</td>\n",
       "      <td>45.55095</td>\n",
       "    </tr>\n",
       "  </tbody>\n",
       "</table>\n",
       "</div>"
      ],
      "text/plain": [
       "   Unnamed: 0  Fertility rate  Life expectancy at birth\n",
       "0          x1           1.300                  76.84878\n",
       "1          x2           1.950                  81.40732\n",
       "2          x3           2.466                  77.57895\n",
       "3          x4           1.600                  74.16341\n",
       "4          x5           2.952                  68.84907\n",
       "5          x6           1.801                  73.88595\n",
       "6          x7           1.340                  75.26829\n",
       "7          x8           1.340                  76.26098\n",
       "8          x9           1.630                  80.57244\n",
       "9         x10           2.326                  65.46259\n",
       "10        x11           2.436                  67.54820\n",
       "11        x12           6.563                  55.02451\n",
       "12        x13           1.283                  76.27990\n",
       "13        x14           1.430                  82.29024\n",
       "14        x15           1.988                  69.80695\n",
       "15        x16           1.610                  81.40112\n",
       "16        x17           1.921                  82.19756\n",
       "17        x18           2.400                  74.22683\n",
       "18        x19           1.495                  80.12888\n",
       "19        x20           4.705                  45.55095"
      ]
     },
     "execution_count": 93,
     "metadata": {},
     "output_type": "execute_result"
    }
   ],
   "source": [
    "df = pd.read_csv(\"zadanie1.csv\")\n",
    "df"
   ]
  },
  {
   "cell_type": "code",
   "execution_count": 89,
   "id": "5284806c-3dc1-4960-84ce-10a39b183ed7",
   "metadata": {},
   "outputs": [
    {
     "data": {
      "text/plain": [
       "Index(['Counter', 'Fertility rate', 'Life expectancy at birth'], dtype='object')"
      ]
     },
     "execution_count": 89,
     "metadata": {},
     "output_type": "execute_result"
    }
   ],
   "source": [
    "df.columns"
   ]
  },
  {
   "cell_type": "code",
   "execution_count": 87,
   "id": "1d9d34b5-6da8-426d-bbf8-88a37776998f",
   "metadata": {},
   "outputs": [
    {
     "data": {
      "text/plain": [
       "-0.8204930122649573"
      ]
     },
     "execution_count": 87,
     "metadata": {},
     "output_type": "execute_result"
    }
   ],
   "source": [
    "df['Fertility rate'].corr(df['Life expectancy at birth'])"
   ]
  },
  {
   "cell_type": "code",
   "execution_count": null,
   "id": "691ca411-da8d-459d-9595-9c75c2d192e5",
   "metadata": {},
   "outputs": [],
   "source": []
  },
  {
   "cell_type": "code",
   "execution_count": null,
   "id": "5b53d523-d1f5-4de4-af06-01e40e05c4ed",
   "metadata": {},
   "outputs": [],
   "source": []
  },
  {
   "cell_type": "code",
   "execution_count": null,
   "id": "3baed4ea-99d3-4840-bb61-a25e74be02a7",
   "metadata": {},
   "outputs": [],
   "source": []
  }
 ],
 "metadata": {
  "kernelspec": {
   "display_name": "Python 3 (ipykernel)",
   "language": "python",
   "name": "python3"
  },
  "language_info": {
   "codemirror_mode": {
    "name": "ipython",
    "version": 3
   },
   "file_extension": ".py",
   "mimetype": "text/x-python",
   "name": "python",
   "nbconvert_exporter": "python",
   "pygments_lexer": "ipython3",
   "version": "3.12.7"
  }
 },
 "nbformat": 4,
 "nbformat_minor": 5
}
